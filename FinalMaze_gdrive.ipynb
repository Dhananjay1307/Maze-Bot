{
  "cells": [
    {
      "cell_type": "code",
      "execution_count": null,
      "metadata": {
        "colab": {
          "base_uri": "https://localhost:8080/"
        },
        "id": "oXJkSfKvP1Vg",
        "outputId": "464a0f7c-a554-4e51-dfd7-aee279bf8e67"
      },
      "outputs": [
        {
          "name": "stdout",
          "output_type": "stream",
          "text": [
            "Mounted at /content/drive\n"
          ]
        }
      ],
      "source": [
        "from google.colab import drive\n",
        "drive.mount('/content/drive')"
      ]
    },
    {
      "cell_type": "code",
      "execution_count": null,
      "metadata": {
        "id": "r4JQkQA9QgAU"
      },
      "outputs": [],
      "source": [
        "import zipfile\n",
        "zip_ref=zipfile.ZipFile(\"/content/drive/MyDrive/Dataset.zip\", 'r')\n",
        "zip_ref.extractall(\"/content/Dataset\")\n",
        "zip_ref.close()"
      ]
    },
    {
      "cell_type": "markdown",
      "metadata": {
        "id": "UBXJ9hup4A34"
      },
      "source": [
        "##**Importing Libraries**\n"
      ]
    },
    {
      "cell_type": "code",
      "execution_count": 7,
      "metadata": {
        "id": "j0g5ehcF-C35"
      },
      "outputs": [],
      "source": [
        "# Provides support for large, multi-dimensional arrays and matrices, as well as a wide range of mathematical functions\n",
        "# We will be using this library to initialize our maze.\n",
        "import numpy as np\n",
        "import os\n",
        "import joblib\n",
        "from scipy.sparse import dok_matrix\n",
        "# A 2D plotting library that enables users to create a wide variety of high-quality plots and visualizations.\n",
        "# We will be using this library to display our maze in a visually appealing way.\n",
        "import matplotlib.pyplot as plt\n",
        "\n",
        "# A library that provides various functions for working with time-related operations. We will be using this library\n",
        "# to give us time to look at how the agent is progressing through the maze\n",
        "import time\n",
        "import pickle\n"
      ]
    },
    {
      "cell_type": "markdown",
      "metadata": {
        "id": "7OXdlVHe-O9a"
      },
      "source": [
        "##**Creating the Maze Environment**"
      ]
    },
    {
      "cell_type": "markdown",
      "metadata": {
        "id": "khPGglkq-R6G"
      },
      "source": [
        "The code below sets up a simple maze with walls, a starting point (S), and a goal point (G). The maze is set up on a grid where each cell is either a 0 or 1, with 0 representing a black empty space and 1 representing a white wall."
      ]
    },
    {
      "cell_type": "code",
      "execution_count": 8,
      "metadata": {
        "id": "BrfkCY7w-OY3"
      },
      "outputs": [],
      "source": [
        "class Maze:\n",
        "    def __init__(self, maze, start_position, goal_position):\n",
        "        # Initialize Maze object with the provided maze, start_position, and goal position\n",
        "        self.maze = maze\n",
        "        self.maze_height = maze_layout.shape[0] # Get the height of the maze (number of rows)\n",
        "\n",
        "        self.maze_width = maze_layout.shape[1]  # Get the width of the maze (number of columns)\n",
        "        self.start_position = start_position    # Set the start position in the maze as a tuple (x, y)\n",
        "        self.goal_position = goal_position      # Set the goal position in the maze as a tuple (x, y)\n",
        "\n",
        "    def show_maze(self):\n",
        "        # Visualize the maze using Matplotlib\n",
        "        plt.figure(figsize=(5,5))\n",
        "\n",
        "        # Display the maze as an image in grayscale ('gray' colormap)\n",
        "        plt.imshow(self.maze, cmap='gray')\n",
        "\n",
        "        # Add start and goal positions as 'S' and 'G'\n",
        "        plt.text(self.start_position[0], self.start_position[1], 'S', ha='center', va='center', color='red', fontsize=20)\n",
        "        plt.text(self.goal_position[0], self.goal_position[1], 'G', ha='center', va='center', color='green', fontsize=20)\n",
        "\n",
        "        # Remove ticks and labels from the axes\n",
        "        plt.xticks([]), plt.yticks([])\n",
        "\n",
        "        # Show the plot\n",
        "        plt.show()\n",
        "\n"
      ]
    },
    {
      "cell_type": "code",
      "execution_count": 9,
      "metadata": {
        "id": "dx0iGuvglgXQ"
      },
      "outputs": [],
      "source": [
        "\n",
        "from PIL import Image\n",
        "\n",
        "def generate_matrix(image_path):\n",
        "    # Load the image\n",
        "    image = Image.open(image_path)\n",
        "\n",
        "    # Convert the image to grayscale\n",
        "    gray_image = image.convert(\"L\")\n",
        "\n",
        "    # Define the block size (20x20 pixels)\n",
        "    block_size = 20\n",
        "    num_blocks = gray_image.size[0] // block_size  # Number of blocks (21x21)\n",
        "\n",
        "    # Initialize the matrix\n",
        "    mapped_matrix = np.zeros((num_blocks, num_blocks), dtype=int)\n",
        "\n",
        "    # Process each block\n",
        "    for i in range(num_blocks):\n",
        "        for j in range(num_blocks):\n",
        "            # Get the coordinates of the block\n",
        "            block = gray_image.crop((j * block_size, i * block_size, (j + 1) * block_size, (i + 1) * block_size))\n",
        "\n",
        "            # Calculate the average color in the block\n",
        "            avg_color = np.mean(block)\n",
        "\n",
        "            # If the average color is closer to white (255), mark the block as 1, else 0\n",
        "            mapped_matrix[i, j] = 1 if avg_color > 128 else 0\n",
        "\n",
        "    return mapped_matrix\n",
        "\n",
        "\n"
      ]
    },
    {
      "cell_type": "code",
      "execution_count": 45,
      "metadata": {
        "colab": {
          "base_uri": "https://localhost:8080/",
          "height": 422
        },
        "id": "fXssFI9q_gic",
        "outputId": "32e3ceca-3f91-407d-b8d2-f508e749b585"
      },
      "outputs": [
        {
          "data": {
            "image/png": "[encoded data removed]",
            "text/plain": [
              "<Figure size 500x500 with 1 Axes>"
            ]
          },
          "metadata": {},
          "output_type": "display_data"
        }
      ],
      "source": [
        "\n",
        "# maze_layout=generate_matrix(\"archive/3.png\")\n",
        "# print(maze_layout)\n",
        "maze_layout=np.array([[0, 0, 0, 0, 0, 0, 0, 0, 0, 0, 0, 0, 0, 0, 0, 0, 0, 0, 0, 0, 0],\n",
        "[1, 1, 1, 1, 0, 1, 0, 1, 1, 1, 1, 1, 1, 1, 0, 1, 1, 1, 1, 1, 0],\n",
        "[0, 0, 0, 1, 0, 1, 0, 0, 0, 0, 0, 1, 0, 0, 0, 1, 0, 0, 0, 0, 0],\n",
        "[0, 1, 0, 1, 0, 1, 0, 1, 0, 1, 0, 1, 1, 1, 0, 1, 1, 1, 1, 1, 0],\n",
        "[0, 1, 0, 1, 0, 0, 0, 1, 0, 1, 0, 1, 0, 1, 0, 0, 0, 1, 0, 0, 0],\n",
        "[0, 1, 0, 1, 0, 1, 0, 1, 0, 1, 1, 1, 0, 1, 0, 1, 0, 1, 1, 1, 0],\n",
        "[0, 1, 0, 1, 0, 1, 0, 1, 0, 0, 0, 1, 0, 0, 0, 1, 0, 1, 0, 0, 0],\n",
        "[0, 1, 0, 1, 0, 1, 1, 1, 1, 1, 1, 1, 1, 1, 1, 1, 1, 1, 0, 1, 0],\n",
        "[0, 1, 0, 1, 0, 0, 0, 0, 0, 0, 0, 1, 0, 0, 0, 0, 0, 0, 0, 1, 0],\n",
        "[0, 1, 0, 1, 0, 1, 0, 1, 0, 1, 1, 1, 1, 1, 0, 1, 1, 1, 1, 1, 0],\n",
        "[0, 0, 0, 1, 0, 1, 0, 1, 0, 1, 0, 1, 0, 1, 0, 0, 0, 0, 0, 1, 0],\n",
        "[0, 1, 0, 1, 0, 1, 0, 1, 1, 1, 0, 1, 0, 1, 0, 1, 1, 1, 0, 1, 0],\n",
        "[0, 1, 0, 1, 0, 1, 0, 0, 0, 0, 0, 1, 0, 0, 0, 1, 0, 1, 0, 1, 0],\n",
        "[0, 1, 0, 1, 0, 1, 1, 1, 0, 1, 1, 1, 1, 1, 1, 1, 0, 1, 0, 1, 0],\n",
        "[0, 0, 0, 1, 0, 1, 0, 0, 0, 0, 0, 1, 0, 0, 0, 1, 0, 1, 0, 1, 0],\n",
        "[0, 1, 0, 1, 0, 1, 0, 1, 0, 1, 0, 1, 0, 1, 1, 1, 0, 1, 0, 1, 0],\n",
        "[0, 1, 0, 1, 0, 0, 0, 1, 0, 1, 0, 1, 0, 1, 0, 0, 0, 1, 0, 1, 0],\n",
        "[0, 1, 0, 1, 0, 1, 1, 1, 0, 1, 0, 1, 0, 1, 0, 1, 1, 1, 0, 1, 0],\n",
        "[0, 1, 0, 1, 0, 0, 0, 0, 0, 0, 0, 0, 0, 0, 0, 0, 0, 0, 0, 0, 0],\n",
        "[0, 1, 0, 1, 1, 1, 1, 1, 1, 1, 1, 1, 1, 1, 1, 1, 1, 1, 1, 1, 1],\n",
        "[0, 0, 0, 1, 0, 0, 0, 0, 0, 0, 0, 0, 0, 0, 0, 0, 0, 0, 0, 0, 0]])\n",
        "\n",
        "# Create an instance of the maze and set the starting and ending positions\n",
        "maze = Maze(maze_layout, (0, 1), (3, 20))\n",
        "# Visualize the maze\n",
        "# print(maze_layout[0,1])\n",
        "maze.show_maze()"
      ]
    },
    {
      "cell_type": "markdown",
      "metadata": {
        "id": "59R0EpWI_mQt"
      },
      "source": [
        "##**Implementing the Agent**"
      ]
    },
    {
      "cell_type": "markdown",
      "metadata": {
        "id": "tNX8sLyO_pIB"
      },
      "source": [
        "The code below is for the agent. The agent can move in four directions: up, down, left, and right."
      ]
    },
    {
      "cell_type": "code",
      "execution_count": 46,
      "metadata": {
        "id": "rPZ-3Uh3_oJN"
      },
      "outputs": [],
      "source": [
        "# Actions the agent can take: Up, Down, Left, Right. Each action is represented as a tuple of two values: (row_change, column_change)\n",
        "actions = [(-1, 0), # Up: Moving one step up, reducing the row index by 1\n",
        "          (1, 0),   # Down: Moving on step down, increasing the row index by 1\n",
        "          (0, -1),  # Left: Moving one step to the left, reducing the column index by 1\n",
        "          (0, 1)]   # Right: Moving one step to the right, increasing the column index by 1\n",
        "\n",
        "class QLearningAgent:\n",
        "    def __init__(self, maze, learning_rate=0.1, discount_factor=0.9, exploration_start=1.0, exploration_end=0.01, num_episodes=100):\n",
        "        # Initialize the Q-learning agent with a Q-table containing all zeros\n",
        "        # where the rows represent states, columns represent actions, and the third dimension is for each action (Up, Down, Left, Right)\n",
        "        self.q_table = np.zeros((maze.maze_height, maze.maze_width, 4)) # 4 actions: Up, Down, Left, Right\n",
        "        self.learning_rate = learning_rate          # Learning rate controls how much the agent updates its Q-values after each action\n",
        "        self.discount_factor = discount_factor      # Discount factor determines the importance of future rewards in the agent's decisions\n",
        "        self.exploration_start = exploration_start  # Exploration rate determines the likelihood of the agent taking a random action\n",
        "        self.exploration_end = exploration_end\n",
        "        self.num_episodes = num_episodes\n",
        "\n",
        "    def save_model(self, file_path='q_table.pkl'):\n",
        "        with open(file_path, 'wb') as file:\n",
        "            pickle.dump(self.q_table, file)\n",
        "        # print(f\"Q-table saved to {file_path}\")\n",
        "\n",
        "    # Method to load the model (Q-table)\n",
        "    def load_model(self, file_path='q_table.pkl'):\n",
        "        with open(file_path, 'rb') as file:\n",
        "            self.q_table = pickle.load(file)\n",
        "        # print(f\"Q-table loaded from {file_path}\")\n",
        "\n",
        "    def get_exploration_rate(self, current_episode):\n",
        "        # Calculate the current exploration rate using the given formula\n",
        "        exploration_rate = self.exploration_start * (self.exploration_end / self.exploration_start) ** (current_episode / self.num_episodes)\n",
        "        return exploration_rate\n",
        "\n",
        "    def get_action(self, state, current_episode): # State is tuple representing where agent is in maze (x, y)\n",
        "        exploration_rate = self.get_exploration_rate(current_episode)\n",
        "        # Select an action for the given state either randomly (exploration) or using the Q-table (exploitation)\n",
        "        if np.random.rand() < exploration_rate:\n",
        "            return np.random.randint(4) # Choose a random action (index 0 to 3, representing Up, Down, Left, Right)\n",
        "        else:\n",
        "            return np.argmax(self.q_table[state]) # Choose the action with the highest Q-value for the given state\n",
        "\n",
        "    def update_q_table(self, state, action, next_state, reward):\n",
        "        # Find the best next action by selecting the action that maximizes the Q-value for the next state\n",
        "        best_next_action = np.argmax(self.q_table[next_state])\n",
        "\n",
        "        # Get the current Q-value for the current state and action\n",
        "        current_q_value = self.q_table[state][action]\n",
        "\n",
        "        # Q-value update using Q-learning formula\n",
        "        new_q_value = current_q_value + self.learning_rate * (reward + self.discount_factor * self.q_table[next_state][best_next_action] - current_q_value)\n",
        "\n",
        "        # Update the Q-table with the new Q-value for the current state and action\n",
        "        self.q_table[state][action] = new_q_value\n",
        "\n"
      ]
    },
    {
      "cell_type": "markdown",
      "metadata": {
        "id": "4FbuYR2CAn1_"
      },
      "source": [
        "##**Defining the Reward System**"
      ]
    },
    {
      "cell_type": "markdown",
      "metadata": {
        "id": "vJcGuXGGAr9i"
      },
      "source": [
        "This code determines the values for the reward system. The reward system provides feedback to the agent in reinforcement learning.\n",
        "\n",
        "Use these default settings to see how the agent performs when untrained, and when initially trained."
      ]
    },
    {
      "cell_type": "code",
      "execution_count": 47,
      "metadata": {
        "colab": {
          "base_uri": "https://localhost:8080/"
        },
        "id": "ImjtvwVSAwTa",
        "outputId": "57a967b9-0cd7-4a53-f83e-12934813e675"
      },
      "outputs": [
        {
          "name": "stdout",
          "output_type": "stream",
          "text": [
            "The reward system has been defined.\n"
          ]
        }
      ],
      "source": [
        "goal_reward = 100\n",
        "wall_penalty = -10\n",
        "step_penalty = -1\n",
        "\n",
        "print(\"The reward system has been defined.\")"
      ]
    },
    {
      "cell_type": "markdown",
      "metadata": {
        "id": "O5_ZzP1ZBB_D"
      },
      "source": [
        "## **Testing the Agent**"
      ]
    },
    {
      "cell_type": "markdown",
      "metadata": {
        "id": "lnZqfOpMo22Z"
      },
      "source": [
        "The code below tests how well the agent navigates the maze. It reports the total number of steps the agent took to get through the maze as well as the total reward the agent accumulated.\n"
      ]
    },
    {
      "cell_type": "code",
      "execution_count": 48,
      "metadata": {
        "id": "uaHLrAd0ov3Q"
      },
      "outputs": [],
      "source": [
        "# This function simulates the agent's movements in the maze for a single episode.\n",
        "\n",
        "def finish_episode(agent, maze, current_episode, train=True):\n",
        "    # Initialize the agent's current state to the maze's start position\n",
        "    current_state = maze.start_position\n",
        "    is_done = False\n",
        "    episode_reward = 0\n",
        "    episode_step = 0\n",
        "    path = [current_state]\n",
        "\n",
        "    # Continue until the episode is done\n",
        "    while not is_done:\n",
        "        # Get the agent's action for the current state using its Q-table\n",
        "        action = agent.get_action(current_state, current_episode)\n",
        "\n",
        "        # Compute the next state based on the chosen action\n",
        "        next_state = (current_state[0] + actions[action][0], current_state[1] + actions[action][1])\n",
        "\n",
        "        # Check if the next state is out of bounds or hitting a wall\n",
        "        if next_state[0] < 1 or next_state[0] >= maze.maze_height or next_state[1] < 1 or next_state[1] >= maze.maze_width or maze.maze[next_state[1]][next_state[0]] == 0:\n",
        "            reward = wall_penalty\n",
        "            next_state = current_state\n",
        "        # Check if the agent reached the goal:\n",
        "        elif next_state == (maze.goal_position):\n",
        "            path.append(current_state)\n",
        "            reward = goal_reward\n",
        "            is_done = True\n",
        "        # The agent takes a step but hasn't reached the goal yet\n",
        "        else:\n",
        "            path.append(current_state)\n",
        "            reward = step_penalty\n",
        "\n",
        "        # Update the cumulative reward and step count for the episode\n",
        "        episode_reward += reward\n",
        "        episode_step += 1\n",
        "\n",
        "        # Update the agent's Q-table if training is enabled\n",
        "        if train == True:\n",
        "            agent.update_q_table(current_state, action, next_state, reward)\n",
        "\n",
        "        # Move to the next state for the next iteration\n",
        "        current_state = next_state\n",
        "\n",
        "    # Return the cumulative episode reward, total number of steps, and the agent's path during the simulation\n",
        "    return episode_reward, episode_step, path\n",
        "\n"
      ]
    },
    {
      "cell_type": "markdown",
      "metadata": {
        "id": "ihUJlT3HNwgZ"
      },
      "source": []
    },
    {
      "cell_type": "markdown",
      "metadata": {
        "id": "GGFiGxS9OORv"
      },
      "source": [
        "##**Setting Up the Reinforcement Learning Loop**"
      ]
    },
    {
      "cell_type": "markdown",
      "metadata": {
        "id": "m3Pw8SjLORia"
      },
      "source": []
    },
    {
      "cell_type": "code",
      "execution_count": 49,
      "metadata": {
        "colab": {
          "base_uri": "https://localhost:8080/"
        },
        "id": "vdCGxQmOOfph",
        "outputId": "98a08305-0451-4dab-a5d9-88d7883e8407"
      },
      "outputs": [
        {
          "name": "stdout",
          "output_type": "stream",
          "text": [
            "This code block has been run and the train_agent function is now available for use.\n"
          ]
        }
      ],
      "source": [
        "def train_agent(agent, maze, num_episodes=100):\n",
        "    # Lists to store the data for plotting\n",
        "    episode_rewards = []\n",
        "    episode_steps = []\n",
        "\n",
        "    # Loop over the specified number of episodes\n",
        "    for episode in range(num_episodes):\n",
        "        episode_reward, episode_step, path = finish_episode(agent, maze, episode, train=True)\n",
        "\n",
        "        # Store the episode's cumulative reward and the number of steps taken in their respective lists\n",
        "        episode_rewards.append(episode_reward)\n",
        "        episode_steps.append(episode_step)\n",
        "\n",
        "    # Plotting the data after training is completed\n",
        "    plt.figure(figsize=(10, 5))\n",
        "\n",
        "    plt.subplot(1, 2, 1)\n",
        "    plt.plot(episode_rewards)\n",
        "    plt.xlabel('Episode')\n",
        "    plt.ylabel('Cumulative Reward')\n",
        "    plt.title('Reward per Episode')\n",
        "\n",
        "    average_reward = sum(episode_rewards) / len(episode_rewards)\n",
        "    print(f\"The average reward is: {average_reward}\")\n",
        "\n",
        "    plt.subplot(1, 2, 2)\n",
        "    plt.plot(episode_steps)\n",
        "    plt.xlabel('Episode')\n",
        "    plt.ylabel('Steps Taken')\n",
        "    plt.ylim(0, 100)\n",
        "    plt.title('Steps per Episode')\n",
        "\n",
        "    average_steps = sum(episode_steps) / len(episode_steps)\n",
        "    print(f\"The average steps is: {average_steps}\")\n",
        "\n",
        "    plt.tight_layout()\n",
        "    plt.show()\n",
        "\n",
        "print(\"This code block has been run and the train_agent function is now available for use.\")"
      ]
    },
    {
      "cell_type": "code",
      "execution_count": 18,
      "metadata": {
        "id": "k0iqqGUaAyto"
      },
      "outputs": [],
      "source": [
        "# This function evaluates an agent's performance in the maze. The function simulates the agent's movements in the maze,\n",
        "# updating its state, accumulating the rewards, and determining the end of the episode when the agent reaches the goal position.\n",
        "# The agent's learned path is then printed along with the total number of steps taken and the total reward obtained during the\n",
        "# simulation. The function also visualizes the maze with the agent's path marked in blue for better visualization of the\n",
        "# agent's trajectory.\n",
        "\n",
        "def test_agent(agent, maze, num_episodes=1):\n",
        "    # Simulate the agent's behavior in the maze for the specified number of episodes\n",
        "    episode_reward, episode_step, path = finish_episode(agent, maze, num_episodes, train=False)\n",
        "    \n",
        "    fpath=[]\n",
        "    for row, col in path:\n",
        "        # print(f\"({row}, {col})-> \", end='')\n",
        "        if(fpath.__contains__((row,col))):\n",
        "            print()\n",
        "        else:\n",
        "            fpath.append((row,col))\n",
        "        \n",
        "\n",
        "    print(\"Number of steps:\", episode_step)\n",
        "    print(\"Total reward:\", episode_reward)\n",
        "\n",
        "    # Clear the existing plot if any\n",
        "    if plt.gcf().get_axes():\n",
        "        plt.cla()\n",
        "\n",
        "    # Visualize the maze using matplotlib\n",
        "    plt.figure(figsize=(5,5))\n",
        "    plt.imshow(maze.maze, cmap='gray')\n",
        "\n",
        "    # Mark the start position (red 'S') and goal position (green 'G') in the maze\n",
        "    plt.text(maze.start_position[0], maze.start_position[1], 'S', ha='center', va='center', color='red', fontsize=20)\n",
        "    plt.text(maze.goal_position[0], maze.goal_position[1], 'G', ha='center', va='center', color='green', fontsize=20)\n",
        "\n",
        "    # Mark the agent's path with blue '#' symbols\n",
        "    for position in path:\n",
        "        plt.text(position[0], position[1], \"*\", va='center', color='blue', fontsize=20)\n",
        "\n",
        "    # Remove axis ticks and grid lines for a cleaner visualization\n",
        "    plt.xticks([]), plt.yticks([])\n",
        "    plt.grid(color='black', linewidth=2)\n",
        "    plt.show()\n",
        "\n",
        "    return fpath\n"
      ]
    },
    {
      "cell_type": "markdown",
      "metadata": {
        "id": "_jrZKOEZOiKH"
      },
      "source": [
        "##**Training the Agent**"
      ]
    },
    {
      "cell_type": "code",
      "execution_count": 51,
      "metadata": {
        "colab": {
          "base_uri": "https://localhost:8080/",
          "height": 559
        },
        "id": "jHry-2UIP0iW",
        "outputId": "1005db5b-a885-4537-e9f2-f3040e100ed2"
      },
      "outputs": [
        {
          "name": "stdout",
          "output_type": "stream",
          "text": [
            "The average reward is: 78.78135555555555\n",
            "The average steps is: 22.045844444444445\n"
          ]
        },
        {
          "data": {
            "image/png": "[encoded data removed]",
            "text/plain": [
              "<Figure size 1000x500 with 2 Axes>"
            ]
          },
          "metadata": {},
          "output_type": "display_data"
        }
      ],
      "source": [
        "# Training the agent\n",
        "agent = QLearningAgent(maze)\n",
        "\n",
        "train_agent(agent, maze, num_episodes=90000)\n",
        "agent.save_model('q_table1.pkl')"
      ]
    },
    {
      "cell_type": "code",
      "execution_count": 52,
      "metadata": {
        "colab": {
          "base_uri": "https://localhost:8080/",
          "height": 546
        },
        "id": "0t9kcynWO1Hw",
        "outputId": "3e6e6515-4e69-4d44-c46d-437feff73ab3"
      },
      "outputs": [
        {
          "name": "stdout",
          "output_type": "stream",
          "text": [
            "\n",
            "Number of steps: 22\n",
            "Total reward: 79\n"
          ]
        },
        {
          "data": {
            "text/plain": [
              "<Figure size 640x480 with 0 Axes>"
            ]
          },
          "metadata": {},
          "output_type": "display_data"
        },
        {
          "data": {
            "image/png": "[encoded data removed]",
            "text/plain": [
              "<Figure size 500x500 with 1 Axes>"
            ]
          },
          "metadata": {},
          "output_type": "display_data"
        },
        {
          "name": "stdout",
          "output_type": "stream",
          "text": [
            "[(0, 1), (1, 1), (2, 1), (3, 1), (3, 2), (3, 3), (3, 4), (3, 5), (3, 6), (3, 7), (3, 8), (3, 9), (3, 10), (3, 11), (3, 12), (3, 13), (3, 14), (3, 15), (3, 16), (3, 17), (3, 18), (3, 19)]\n"
          ]
        }
      ],
      "source": [
        "# Testing the agent after training\n",
        "# agent = QLearningAgent(maze)\n",
        "agent.load_model('q_table1.pkl')\n",
        "mypath=test_agent(agent, maze, num_episodes=100)\n",
        "# mypath.remove((0,1))\n",
        "print(mypath)\n"
      ]
    },
    {
      "cell_type": "code",
      "execution_count": 21,
      "metadata": {},
      "outputs": [
        {
          "name": "stdout",
          "output_type": "stream",
          "text": [
            "['moveForward', 'turnRight', 'moveForward', 'moveForward', 'moveForward', 'moveForward', 'turnLeft', 'moveForward', 'moveForward', 'turnRight', 'moveForward', 'moveForward', 'moveForward', 'moveForward', 'turnLeft', 'moveForward', 'moveForward', 'turnLeft', 'moveForward', 'moveForward', 'moveForward', 'moveForward', 'moveForward', 'moveForward', 'turnRight', 'moveForward', 'moveForward', 'moveForward', 'moveForward', 'moveForward', 'moveForward', 'turnRight', 'moveForward', 'moveForward', 'moveForward', 'moveForward', 'turnLeft', 'moveForward', 'moveForward', 'turnRight', 'moveForward', 'moveForward', 'turnLeft', 'moveForward', 'moveForward', 'turnRight', 'moveForward', 'moveForward', 'moveForward', 'moveForward', 'turnLeft', 'moveForward', 'moveForward', 'turnRight', 'moveForward', 'moveForward', 'turnLeft', 'moveForward', 'moveForward', 'turnRight', 'moveForward', 'moveForward', 'moveForward', 'moveForward']\n"
          ]
        }
      ],
      "source": [
        "def generate_movement_instructions(path):\n",
        "\n",
        "    instructions = []\n",
        "\n",
        "    for i in range(len(path) - 1):\n",
        "        start_x, start_y = path[i]\n",
        "        end_x, end_y = path[i + 1]\n",
        "\n",
        "        # Determine the direction and distance for this segment\n",
        "        if start_x < end_x and start_y == end_y:  # Move forward\n",
        "            direction = \"forward\"\n",
        "            distance = end_x - start_x\n",
        "        elif start_x == end_x and start_y < end_y:  # Turn right\n",
        "            direction = \"right\"\n",
        "            distance = end_y - start_y\n",
        "        elif start_x == end_x and start_y > end_y:  # Turn left\n",
        "            direction = \"left\"\n",
        "            distance = start_y - end_y\n",
        "        else:\n",
        "            direction = \"right\"\n",
        "            distance = start_x - end_x\n",
        "\n",
        "        # Move in the determined direction\n",
        "        while distance > 0:\n",
        "            instructions.append((\"moveForward\"))\n",
        "            distance -= 1\n",
        "\n",
        "        # Turn if necessary for the next segment\n",
        "        if i < len(path) - 2:\n",
        "            next_x, next_y = path[i + 2]\n",
        "            if direction == \"forward\" and next_y != end_y:\n",
        "                instructions.append((\"turnRight\" if next_y > end_y else \"turnLeft\"))\n",
        "            elif direction == \"right\" and next_x != end_x:\n",
        "                instructions.append((\"turnLeft\"))\n",
        "            elif direction == \"left\" and next_x != end_x:\n",
        "                instructions.append((\"turnRight\"))\n",
        "\n",
        "    return instructions\n",
        "\n",
        "instructions = generate_movement_instructions(mypath)\n",
        "with open('Path.txt','w') as file:\n",
        "    file.write(\"\\n\".join(instructions))\n",
        "print(instructions)"
      ]
    },
    {
      "cell_type": "code",
      "execution_count": 26,
      "metadata": {},
      "outputs": [
        {
          "name": "stdout",
          "output_type": "stream",
          "text": [
            "Sending: moveForward\n",
            "Sending: turnRight\n",
            "Sending: moveForward\n",
            "Sending: moveForward\n",
            "Sending: moveForward\n",
            "Sending: moveForward\n",
            "Error: \n",
            "WebSocket closed: None\n"
          ]
        },
        {
          "data": {
            "text/plain": [
              "True"
            ]
          },
          "execution_count": 26,
          "metadata": {},
          "output_type": "execute_result"
        }
      ],
      "source": [
        "import websocket\n",
        "import time\n",
        "\n",
        "def on_message(ws, message):\n",
        "    print(\"Received from ESP32: \" + message)\n",
        "\n",
        "def on_open(ws):\n",
        "    # Open file in read mode\n",
        "    with open('Path.txt', 'r') as file:\n",
        "        # Iterate through each line in the file\n",
        "        for line in file:\n",
        "            # Send each line over the WebSocket connection\n",
        "            print(f\"Sending: {line.strip()}\")\n",
        "            ws.send(line.strip())  # Send the line to the ESP32\n",
        "\n",
        "            # Optionally wait for a response from ESP32 before sending the next line\n",
        "            time.sleep(1)  # Adjust sleep time as per your requirement\n",
        "\n",
        "    # Close the WebSocket connection after sending all lines\n",
        "    ws.close()\n",
        "\n",
        "def on_error(ws, error):\n",
        "    print(f\"Error: {error}\")\n",
        "\n",
        "def on_close(ws, close_status_code, close_msg):\n",
        "    print(f\"WebSocket closed: {close_msg}\")\n",
        "\n",
        "# WebSocket client setup\n",
        "ws = websocket.WebSocketApp(\n",
        "    \"ws://192.168.64.28:81\",  # Replace with your ESP32 IP address\n",
        "    on_message=on_message,\n",
        "    on_error=on_error,\n",
        "    on_close=on_close\n",
        ")\n",
        "\n",
        "# When the connection is opened, it will start sending data\n",
        "ws.on_open = on_open\n",
        "\n",
        "# Start the WebSocket client and keep it running\n",
        "ws.run_forever()\n"
      ]
    }
  ],
  "metadata": {
    "colab": {
      "provenance": []
    },
    "kernelspec": {
      "display_name": "Python 3",
      "name": "python3"
    },
    "language_info": {
      "codemirror_mode": {
        "name": "ipython",
        "version": 3
      },
      "file_extension": ".py",
      "mimetype": "text/x-python",
      "name": "python",
      "nbconvert_exporter": "python",
      "pygments_lexer": "ipython3",
      "version": "3.12.3"
    }
  },
  "nbformat": 4,
  "nbformat_minor": 0
}
